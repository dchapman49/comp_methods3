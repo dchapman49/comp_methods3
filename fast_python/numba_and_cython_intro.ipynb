{
 "cells": [
  {
   "cell_type": "markdown",
   "id": "fc5e1576-e5ce-4e59-a812-eedb5a39ffad",
   "metadata": {},
   "source": [
    "## A notebook for students to get their hands on numba and cython\n",
    "\n",
    "Reminder: `conda install numba` and `conda install cython` if they aren't installed on your system"
   ]
  },
  {
   "cell_type": "code",
   "execution_count": 1,
   "id": "5ce18ba9-5595-4637-9933-3ff9ec77c6b7",
   "metadata": {},
   "outputs": [],
   "source": [
    "#%%writefile swapminmax.py\n",
    "def swap_min_max(arr):\n",
    "    max_val = arr[0]\n",
    "    max_ind = 0\n",
    "    min_val = arr[0]\n",
    "    min_ind = 0\n",
    "    for i in range(1, arr.shape[0]):\n",
    "        if arr[i] > max_val:\n",
    "            max_val = arr[i]\n",
    "            max_ind = i\n",
    "        if arr[i] < min_val:\n",
    "            min_val = arr[i]\n",
    "            min_ind = i\n",
    "    arr[min_ind] = arr[max_ind]\n",
    "    arr[max_ind] = min_val"
   ]
  },
  {
   "cell_type": "code",
   "execution_count": 2,
   "id": "5161415a-3949-4e65-bc21-c0c35deb7f1a",
   "metadata": {},
   "outputs": [],
   "source": [
    "import numpy as np\n",
    "X = np.arange(int(1e8)) #100 million numbers"
   ]
  },
  {
   "cell_type": "code",
   "execution_count": 3,
   "id": "3aa21f50-efda-4a38-ad48-6f36056dcd68",
   "metadata": {},
   "outputs": [
    {
     "name": "stdout",
     "output_type": "stream",
     "text": [
      "23.9 s ± 0 ns per loop (mean ± std. dev. of 1 run, 1 loop each)\n"
     ]
    }
   ],
   "source": [
    "#get the running time \n",
    "%timeit -n 1 -r 1 swap_min_max(X) \n",
    "#this takes a long time, so we add the -n 1 -r 1 options to make it only perform the computation once\n",
    "#usually it's best to perform it multiple times to get a more accurate measure of expected runtime"
   ]
  },
  {
   "cell_type": "code",
   "execution_count": 4,
   "id": "9d6d9a1d-6c80-474a-b03b-43bacd5532e8",
   "metadata": {},
   "outputs": [],
   "source": [
    "#you may need to conda install line_profiler\n",
    "%load_ext line_profiler"
   ]
  },
  {
   "cell_type": "code",
   "execution_count": 5,
   "id": "755dfcc6-6ec2-4ec9-b9ea-1000724bc1b9",
   "metadata": {},
   "outputs": [
    {
     "data": {
      "text/plain": [
       "Timer unit: 1e-06 s\n",
       "\n",
       "Total time: 86.9985 s\n",
       "File: /tmp/ipykernel_6245/4167515762.py\n",
       "Function: swap_min_max at line 2\n",
       "\n",
       "Line #      Hits         Time  Per Hit   % Time  Line Contents\n",
       "==============================================================\n",
       "     2                                           def swap_min_max(arr):\n",
       "     3         1          5.0      5.0      0.0      max_val = arr[0]\n",
       "     4         1          1.0      1.0      0.0      max_ind = 0\n",
       "     5         1          0.0      0.0      0.0      min_val = arr[0]\n",
       "     6         1          0.0      0.0      0.0      min_ind = 0\n",
       "     7 100000000   23442178.0      0.2     26.9      for i in range(1, arr.shape[0]):\n",
       "     8  99999999   32033276.0      0.3     36.8          if arr[i] > max_val:\n",
       "     9                                                       max_val = arr[i]\n",
       "    10                                                       max_ind = i\n",
       "    11  99999999   31522993.0      0.3     36.2          if arr[i] < min_val:\n",
       "    12         2          1.0      0.5      0.0              min_val = arr[i]\n",
       "    13         2          0.0      0.0      0.0              min_ind = i\n",
       "    14         1          2.0      2.0      0.0      arr[min_ind] = arr[max_ind]\n",
       "    15         1          0.0      0.0      0.0      arr[max_ind] = min_val"
      ]
     },
     "metadata": {},
     "output_type": "display_data"
    }
   ],
   "source": [
    "#lprun, i.e. line_profiler, profiles line-by-line\n",
    "%lprun -f swap_min_max swap_min_max(X) #line profile the function swap_min_max. WARNING: This takes a while.\n",
    "#divide Time in column by Timer unit to get the time in seconds"
   ]
  },
  {
   "cell_type": "code",
   "execution_count": 6,
   "id": "7d9f3c9e-d3d2-4e95-b332-f582ec23425d",
   "metadata": {},
   "outputs": [
    {
     "name": "stdout",
     "output_type": "stream",
     "text": [
      " "
     ]
    },
    {
     "data": {
      "text/plain": [
       "         4 function calls in 23.282 seconds\n",
       "\n",
       "   Ordered by: cumulative time\n",
       "\n",
       "   ncalls  tottime  percall  cumtime  percall filename:lineno(function)\n",
       "        1    0.000    0.000   23.282   23.282 {built-in method builtins.exec}\n",
       "        1    0.000    0.000   23.282   23.282 <string>:1(<module>)\n",
       "        1   23.282   23.282   23.282   23.282 4167515762.py:2(swap_min_max)\n",
       "        1    0.000    0.000    0.000    0.000 {method 'disable' of '_lsprof.Profiler' objects}"
      ]
     },
     "metadata": {},
     "output_type": "display_data"
    }
   ],
   "source": [
    "#prun, i.e. cProfile, profiles by function calls. \n",
    "#Since this example is very simple, function calls are less informative\n",
    "%prun -s cumtime swap_min_max(X)"
   ]
  },
  {
   "cell_type": "markdown",
   "id": "bb9dc731-bcf2-4698-995d-c12d1c2634a1",
   "metadata": {},
   "source": [
    "### In-Class Exercise: \n",
    "\n",
    "Rewrite swap_min_max using Numba. Rerun the timing in the previous block to compare its performance to pure Python."
   ]
  },
  {
   "cell_type": "code",
   "execution_count": 7,
   "id": "baf8698d-1196-48c1-a1c5-fda381e727a0",
   "metadata": {},
   "outputs": [],
   "source": [
    "import numba\n",
    "\n",
    "def swap_min_max_numba(arr):\n",
    "    '''\n",
    "    Here's my wonderful function to swap the \n",
    "    min and max values of an array using numba!\n",
    "    '''"
   ]
  },
  {
   "cell_type": "markdown",
   "id": "26e9f4e6-7e81-4a3e-a52d-768ce8aa986b",
   "metadata": {},
   "source": [
    "### In-Class Exercise:\n",
    "\n",
    "Rewrite swap_min_max using Cython. Here's an initial implementation. Provide types and extra Cython syntax to improve the running time as much as possible."
   ]
  },
  {
   "cell_type": "code",
   "execution_count": 8,
   "id": "f95f5c3b-c8e3-4d92-a255-6ec8009f8a85",
   "metadata": {},
   "outputs": [],
   "source": [
    "%load_ext cython"
   ]
  },
  {
   "cell_type": "code",
   "execution_count": null,
   "id": "f3a8728c-649c-4b4d-bdc3-e598d1a1523f",
   "metadata": {},
   "outputs": [],
   "source": [
    "%%cython -a\n",
    "def swap_min_max_cython(arr):\n",
    "    max_val = arr[0]\n",
    "    max_ind = 0\n",
    "    min_val = arr[0]\n",
    "    min_ind = 0\n",
    "    for i in range(1, arr.shape[0]):\n",
    "        if arr[i] > max_val:\n",
    "            max_val = arr[i]\n",
    "            max_ind = i\n",
    "        if arr[i] < min_val:\n",
    "            min_val = arr[i]\n",
    "            min_ind = i\n",
    "    arr[min_ind] = arr[max_ind]\n",
    "    arr[max_ind] = min_val"
   ]
  },
  {
   "cell_type": "code",
   "execution_count": 10,
   "id": "db24a952-7a36-4dfb-b363-cfb36258c861",
   "metadata": {},
   "outputs": [
    {
     "name": "stdout",
     "output_type": "stream",
     "text": [
      "16.4 s ± 2.31 s per loop (mean ± std. dev. of 7 runs, 1 loop each)\n"
     ]
    }
   ],
   "source": [
    "%timeit swap_min_max_cython(X)"
   ]
  }
 ],
 "metadata": {
  "kernelspec": {
   "display_name": "Python 3 (ipykernel)",
   "language": "python",
   "name": "python3"
  },
  "language_info": {
   "codemirror_mode": {
    "name": "ipython",
    "version": 3
   },
   "file_extension": ".py",
   "mimetype": "text/x-python",
   "name": "python",
   "nbconvert_exporter": "python",
   "pygments_lexer": "ipython3",
   "version": "3.9.12"
  }
 },
 "nbformat": 4,
 "nbformat_minor": 5
}
