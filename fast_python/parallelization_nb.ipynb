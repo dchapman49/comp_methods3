{
 "cells": [
  {
   "cell_type": "code",
   "execution_count": 1,
   "id": "065528c6-b012-44cf-975f-cde8c1babc74",
   "metadata": {},
   "outputs": [],
   "source": [
    "import numpy as np\n",
    "np.random.seed(0)"
   ]
  },
  {
   "cell_type": "code",
   "execution_count": 2,
   "id": "7f38bb4b-93ce-4730-a949-b5a8d6527e6d",
   "metadata": {},
   "outputs": [],
   "source": [
    "def matmul(A, B):\n",
    "    if A.shape[1] != B.shape[0]:\n",
    "        print(\"Matrix dims are not compatible\")\n",
    "        return None\n",
    "    m = A.shape[0]\n",
    "    r = A.shape[1]\n",
    "    n = B.shape[0]\n",
    "    out = np.zeros((m, n), dtype=float) \n",
    "    for i in range(m):\n",
    "        for j in range(n):\n",
    "            for k in range(r):\n",
    "                out[i,j] += A[i,k]*B[k,j]\n",
    "    return out"
   ]
  },
  {
   "cell_type": "code",
   "execution_count": 3,
   "id": "efc51c06-a062-46a3-9d6a-4499fe557dc2",
   "metadata": {},
   "outputs": [],
   "source": [
    "A = np.random.normal(size=(1000, 200))\n",
    "B = np.random.normal(size=(200, 1000))"
   ]
  },
  {
   "cell_type": "code",
   "execution_count": 4,
   "id": "1e33a692-2e3d-496d-bf67-bf09f976ee4a",
   "metadata": {},
   "outputs": [
    {
     "name": "stdout",
     "output_type": "stream",
     "text": [
      "14.9 s ± 0 ns per loop (mean ± std. dev. of 1 run, 1 loop each)\n"
     ]
    }
   ],
   "source": [
    "%timeit -r 1 -n 1 matmul(A,B)"
   ]
  },
  {
   "cell_type": "code",
   "execution_count": 5,
   "id": "e388825b-8d6f-40fc-aec8-cdbc4c6a5ed3",
   "metadata": {},
   "outputs": [],
   "source": [
    "import numpy as np\n",
    "from numba import jit, prange\n",
    "\n",
    "@jit(nopython=True, parallel=True)\n",
    "def matmul_numba(A, B):\n",
    "    m = A.shape[0]\n",
    "    r = A.shape[1]\n",
    "    n = B.shape[0]\n",
    "    out = np.zeros((m, n)) #numba works well with numpy\n",
    "    for i in prange(m):\n",
    "        for j in range(n):\n",
    "            for k in range(r):\n",
    "                out[i,j] += A[i,k]*B[k,j]\n",
    "    return out"
   ]
  },
  {
   "cell_type": "code",
   "execution_count": 6,
   "id": "6b5fbd49-63cc-47e3-aace-e352b286bfa3",
   "metadata": {},
   "outputs": [
    {
     "name": "stdout",
     "output_type": "stream",
     "text": [
      "Initial run: 0.8323376178741455 seconds\n"
     ]
    }
   ],
   "source": [
    "import time\n",
    "start = time.time(); matmul_numba(A,B); print(f'Initial run: {time.time() - start} seconds')"
   ]
  },
  {
   "cell_type": "code",
   "execution_count": 7,
   "id": "9c5d0144-2077-45e0-9c97-e5d49a384e8c",
   "metadata": {},
   "outputs": [
    {
     "name": "stdout",
     "output_type": "stream",
     "text": [
      "5.74 ms ± 178 µs per loop (mean ± std. dev. of 7 runs, 100 loops each)\n"
     ]
    }
   ],
   "source": [
    "#subsequent run\n",
    "%timeit matmul_numba(A,B)"
   ]
  },
  {
   "cell_type": "code",
   "execution_count": 8,
   "id": "ead3d77d-20ac-469b-89d6-c40a9dc90ea2",
   "metadata": {},
   "outputs": [],
   "source": [
    "%load_ext cython"
   ]
  },
  {
   "cell_type": "code",
   "execution_count": null,
   "id": "f1dbf8fd-0a16-416d-9bed-b326367241e1",
   "metadata": {},
   "outputs": [],
   "source": [
    "%%cython -a --compile-args=-fopenmp --link-args=-fopenmp --force\n",
    "import numpy as np\n",
    "import cython\n",
    "cimport numpy as np\n",
    "from cython.parallel import prange\n",
    "\n",
    "@cython.boundscheck(False)  # Deactivate bounds checking\n",
    "@cython.wraparound(False)   # Deactivate negative indexing.\n",
    "def matmul_cython(np.ndarray[np.float64_t, ndim=2, mode='c'] A, np.ndarray[np.float64_t, ndim=2, mode='c'] B):\n",
    "    #mode = 'c' gives that the matrices are stored in row-major order\n",
    "    #this is numpy's default.\n",
    "    if A.shape[1] != B.shape[0]:\n",
    "        print(\"Matrix dims are not compatible\")\n",
    "        return None\n",
    "    cdef: \n",
    "        int m = A.shape[0]\n",
    "        int r = A.shape[1]\n",
    "        int n = B.shape[0]\n",
    "        int i, j, k\n",
    "        np.ndarray[np.float64_t, ndim=2, mode='c'] out = np.zeros((m, n), dtype=float)\n",
    "    \n",
    "    #or you can wrap this in a \"with nogil:\" block\n",
    "    for i in prange(m, nogil=True, num_threads=16):\n",
    "        for k in range(r):\n",
    "            for j in range(n): #using j as innermost loop improves speed 4x\n",
    "                out[i,j] += A[i,k]*B[k,j]\n",
    "    return out"
   ]
  },
  {
   "cell_type": "code",
   "execution_count": 10,
   "id": "1b9f3794-f3b5-4f74-aab7-e7d9b36695ca",
   "metadata": {},
   "outputs": [
    {
     "name": "stdout",
     "output_type": "stream",
     "text": [
      "5.74 ms ± 550 µs per loop (mean ± std. dev. of 7 runs, 100 loops each)\n"
     ]
    }
   ],
   "source": [
    "%timeit matmul_cython(A,B) \n",
    "#cython is usually a little bit faster than numba\n",
    "#here they're closer b/c the cython version has an extra if statement"
   ]
  },
  {
   "cell_type": "code",
   "execution_count": 11,
   "id": "184dd2e9-8525-44b3-987a-42bf574b2b4b",
   "metadata": {},
   "outputs": [],
   "source": [
    "A = np.random.normal(size=(10000, 10000))\n",
    "B = np.random.normal(size=(10000, 10000))"
   ]
  },
  {
   "cell_type": "code",
   "execution_count": 12,
   "id": "804266fd-cd68-47f6-9bd2-c2d8fb35f48a",
   "metadata": {},
   "outputs": [
    {
     "name": "stdout",
     "output_type": "stream",
     "text": [
      "8min 32s ± 0 ns per loop (mean ± std. dev. of 1 run, 1 loop each)\n"
     ]
    }
   ],
   "source": [
    "%timeit -r 1 -n 1 matmul_numba(A,B)"
   ]
  },
  {
   "cell_type": "code",
   "execution_count": 13,
   "id": "e065a32d-2d49-4aac-80e2-b8739b70b94a",
   "metadata": {},
   "outputs": [
    {
     "name": "stdout",
     "output_type": "stream",
     "text": [
      "2min 46s ± 0 ns per loop (mean ± std. dev. of 1 run, 1 loop each)\n"
     ]
    }
   ],
   "source": [
    "%timeit -r 1 -n 1 matmul_cython(A,B)"
   ]
  },
  {
   "cell_type": "code",
   "execution_count": 14,
   "id": "3a6f8d8a-c0e2-46dc-be70-6815805bf523",
   "metadata": {},
   "outputs": [],
   "source": [
    "#back of the envelope calculations give that the \n",
    "#pure python version would take \n",
    "#80000 seconds = 22 hours for this final matmul"
   ]
  },
  {
   "cell_type": "code",
   "execution_count": 15,
   "id": "0961432a-162e-42f2-958c-fa77a7906117",
   "metadata": {},
   "outputs": [
    {
     "name": "stdout",
     "output_type": "stream",
     "text": [
      "8.44 s ± 0 ns per loop (mean ± std. dev. of 1 run, 1 loop each)\n"
     ]
    }
   ],
   "source": [
    "%timeit -r 1 -n 1 A @ B #wow! \n",
    "#Important to not reinvent the wheel when you don't have to"
   ]
  },
  {
   "cell_type": "code",
   "execution_count": 16,
   "id": "54f6ff80-ebd6-4fa6-b40c-2a1a7dd9f450",
   "metadata": {},
   "outputs": [],
   "source": [
    "import math\n",
    "def divisors(n):\n",
    "    '''compute all divisors of n which are <= sqrt(n)'''\n",
    "    divides_n = []\n",
    "    for i in range(2, math.ceil(math.sqrt(n))):\n",
    "        if n%i == 0:\n",
    "            divides_n.append(i)\n",
    "    return divides_n"
   ]
  },
  {
   "cell_type": "code",
   "execution_count": 17,
   "id": "baf75cf6-b8b4-4c53-9ff8-ef50d9b04be2",
   "metadata": {
    "tags": []
   },
   "outputs": [],
   "source": [
    "from multiprocessing import Pool\n",
    "P = Pool(10) #10 separate processes"
   ]
  },
  {
   "cell_type": "code",
   "execution_count": null,
   "id": "5d4b3a87-e91f-4132-9ebf-172265190583",
   "metadata": {},
   "outputs": [],
   "source": [
    "P.map(divisors, range(2, 1000000))"
   ]
  },
  {
   "cell_type": "code",
   "execution_count": 19,
   "id": "c5f3ba77-5077-4c32-a4bb-67b89e992d73",
   "metadata": {},
   "outputs": [
    {
     "name": "stdout",
     "output_type": "stream",
     "text": [
      "5.95 s ± 0 ns per loop (mean ± std. dev. of 1 run, 1 loop each)\n"
     ]
    }
   ],
   "source": [
    "#parallel version (multiprocessing)\n",
    "#compute all divisors <= sqrt(n) of all numbers\n",
    "#n from 2 to 1 million\n",
    "%timeit -r 1 -n 1 _ = P.map(divisors, range(2, 1000000))"
   ]
  },
  {
   "cell_type": "code",
   "execution_count": 20,
   "id": "7e4b2569-bbdc-4f7e-ab6e-0d211b019215",
   "metadata": {},
   "outputs": [
    {
     "name": "stdout",
     "output_type": "stream",
     "text": [
      "30.4 s ± 0 ns per loop (mean ± std. dev. of 1 run, 1 loop each)\n"
     ]
    }
   ],
   "source": [
    "#serial version\n",
    "%timeit -r 1 -n 1 _ = list(map(divisors, range(2, 1000000)))"
   ]
  }
 ],
 "metadata": {
  "kernelspec": {
   "display_name": "Python 3 (ipykernel)",
   "language": "python",
   "name": "python3"
  },
  "language_info": {
   "codemirror_mode": {
    "name": "ipython",
    "version": 3
   },
   "file_extension": ".py",
   "mimetype": "text/x-python",
   "name": "python",
   "nbconvert_exporter": "python",
   "pygments_lexer": "ipython3",
   "version": "3.9.12"
  }
 },
 "nbformat": 4,
 "nbformat_minor": 5
}
